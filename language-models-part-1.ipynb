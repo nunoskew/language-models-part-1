{
 "cells": [
  {
   "cell_type": "code",
   "execution_count": 60,
   "metadata": {},
   "outputs": [],
   "source": [
    "import itertools\n",
    "import numpy as np\n",
    "from collections import Counter\n",
    "from nltk.book import *"
   ]
  },
  {
   "cell_type": "code",
   "execution_count": 26,
   "metadata": {},
   "outputs": [],
   "source": [
    "# text2 = sense and sensibility by jane austen\n",
    "unigram_counts = Counter(text2)\n",
    "bigrams = [(text2[i],text2[i+1]) for i in range(len(text2)-1)]\n",
    "bigram_counts = Counter(bigrams)"
   ]
  },
  {
   "cell_type": "code",
   "execution_count": 27,
   "metadata": {},
   "outputs": [],
   "source": [
    "def compute_ngrams(text,n):\n",
    "    if len(text)!=n:\n",
    "        return [tuple(text[i:(i+n)]) for i in range(len(text)-n+1)]\n",
    "    else:\n",
    "        return [tuple(text)]"
   ]
  },
  {
   "cell_type": "code",
   "execution_count": 28,
   "metadata": {},
   "outputs": [],
   "source": [
    "def compute_ngram_counts(text,n):\n",
    "    ngram_counts = Counter(compute_ngrams(text,n))\n",
    "    context_counts = Counter(compute_ngrams(text,n-1))\n",
    "    return ngram_counts,context_counts"
   ]
  },
  {
   "cell_type": "code",
   "execution_count": 29,
   "metadata": {},
   "outputs": [
    {
     "data": {
      "text/plain": [
       "('and', 'Sensibility', 'by')"
      ]
     },
     "execution_count": 29,
     "metadata": {},
     "output_type": "execute_result"
    }
   ],
   "source": [
    "trigrams = compute_ngrams(text2,3)\n",
    "trigrams[2]"
   ]
  },
  {
   "cell_type": "code",
   "execution_count": 30,
   "metadata": {},
   "outputs": [],
   "source": [
    "def compute_bigram_probability(bigram,bigram_counts,unigram_counts):\n",
    "    return bigram_counts[bigram]/unigram_counts[bigram[0]]"
   ]
  },
  {
   "cell_type": "code",
   "execution_count": 31,
   "metadata": {},
   "outputs": [],
   "source": [
    "def compute_ngram_probability(ngram,ngram_counts,context_counts,verbose=False):\n",
    "    if verbose:\n",
    "        print('ngram: ',ngram)\n",
    "        print('ngram counts: ',ngram_counts[ngram])\n",
    "        print('context: ',ngram[:len(ngram)-1])\n",
    "        print('context counts: ',context_counts[ngram[:len(ngram)-1]])\n",
    "    return ngram_counts[ngram]/context_counts[ngram[:len(ngram)-1]]"
   ]
  },
  {
   "cell_type": "code",
   "execution_count": 32,
   "metadata": {},
   "outputs": [],
   "source": [
    "def compute_sentence_bigram_probability(s,bigram_counts,unigram_counts):\n",
    "    s = s.split(' ')\n",
    "    return np.exp(np.sum([np.log(compute_bigram_probability((s[i],s[i+1]),bigram_counts,unigram_counts)) for i in range(len(s)-1)]))"
   ]
  },
  {
   "cell_type": "code",
   "execution_count": 33,
   "metadata": {},
   "outputs": [],
   "source": [
    "def compute_sentence_ngram_probability(s,ngram_counts,context_counts):\n",
    "    s = s.split(' ')\n",
    "    ngrams = compute_ngrams(s,len(list(ngram_counts.keys())[0]))\n",
    "    return np.exp(np.sum([np.log(compute_ngram_probability(ngrams[i],ngram_counts,context_counts)) for i in range(len(ngrams))]))"
   ]
  },
  {
   "cell_type": "code",
   "execution_count": 34,
   "metadata": {},
   "outputs": [],
   "source": [
    "ngram_counts,context_counts = compute_ngram_counts(text2,3)"
   ]
  },
  {
   "cell_type": "code",
   "execution_count": 35,
   "metadata": {},
   "outputs": [
    {
     "data": {
      "text/plain": [
       "0"
      ]
     },
     "execution_count": 35,
     "metadata": {},
     "output_type": "execute_result"
    }
   ],
   "source": [
    "ngram_counts[('she','did')]"
   ]
  },
  {
   "cell_type": "code",
   "execution_count": 36,
   "metadata": {},
   "outputs": [
    {
     "data": {
      "text/plain": [
       "4.569205742850947e-05"
      ]
     },
     "execution_count": 36,
     "metadata": {},
     "output_type": "execute_result"
    }
   ],
   "source": [
    "compute_sentence_bigram_probability('she did not care',bigram_counts,unigram_counts)"
   ]
  },
  {
   "cell_type": "code",
   "execution_count": 37,
   "metadata": {},
   "outputs": [
    {
     "data": {
      "text/plain": [
       "0.011299435028248582"
      ]
     },
     "execution_count": 37,
     "metadata": {},
     "output_type": "execute_result"
    }
   ],
   "source": [
    "compute_sentence_ngram_probability('she did not care',ngram_counts,context_counts)"
   ]
  },
  {
   "cell_type": "code",
   "execution_count": 38,
   "metadata": {},
   "outputs": [],
   "source": [
    "def compute_perplexity(text,ngram_counts,context_counts):\n",
    "    ngrams = compute_ngrams(text,len(list(ngram_counts.keys())[0]))\n",
    "    return np.exp(-(1/len(text))*np.sum([np.log(compute_ngram_probability(ngrams[i],ngram_counts,context_counts)) for i in range(len(ngrams))]))"
   ]
  },
  {
   "cell_type": "code",
   "execution_count": 39,
   "metadata": {},
   "outputs": [
    {
     "data": {
      "text/plain": [
       "4.6990318881662745"
      ]
     },
     "execution_count": 39,
     "metadata": {},
     "output_type": "execute_result"
    }
   ],
   "source": [
    "compute_perplexity(text2,ngram_counts,context_counts)"
   ]
  },
  {
   "cell_type": "code",
   "execution_count": 40,
   "metadata": {},
   "outputs": [
    {
     "name": "stdout",
     "output_type": "stream",
     "text": [
      "n= 2 : 37.37576749369875\n",
      "n= 3 : 4.6990318881662745\n",
      "n= 4 : 1.5042243590107542\n",
      "n= 5 : 1.095325619353706\n"
     ]
    }
   ],
   "source": [
    "for i in range(2,6):\n",
    "    ngram_counts,context_counts = compute_ngram_counts(text2,i)\n",
    "    print('n=',i,':',compute_perplexity(text2,ngram_counts,context_counts))"
   ]
  },
  {
   "cell_type": "code",
   "execution_count": 67,
   "metadata": {},
   "outputs": [],
   "source": [
    "def unk_encode_text_train_test(min_count,train_text,test_text=[]):\n",
    "    train_unigram_counts = Counter(train_text)\n",
    "    train_rare_words = [w for w in list(train_unigram_counts.keys()) if train_unigram_counts[w]<=min_count]\n",
    "    train_text = ['<UNK>' if w in rare_words else w for w in train_text ]\n",
    "    test_text = ['<UNK>' if w not in list(train_unigram_counts.keys()) else w for w in test_text]\n",
    "    return train_text,test_text"
   ]
  },
  {
   "cell_type": "code",
   "execution_count": 70,
   "metadata": {},
   "outputs": [],
   "source": [
    "train_text,test_text = unk_encode_text_train_test(min_count=1,train_text=text2,test_text=text4)"
   ]
  },
  {
   "cell_type": "code",
   "execution_count": 45,
   "metadata": {},
   "outputs": [],
   "source": [
    "ngram_counts,context_counts = compute_ngram_counts(replaced_text2,2)"
   ]
  },
  {
   "cell_type": "code",
   "execution_count": 61,
   "metadata": {},
   "outputs": [],
   "source": [
    "def laplace_bigram_smoothing_counts(bigram_counts,unigram_counts):\n",
    "    vocabulary = list(unigram_counts.keys())\n",
    "    all_bigrams  = list(itertools.product(vocabulary,vocabulary))\n",
    "    all_bigram_counts = Counter(all_bigrams)\n",
    "    all_bigram_counts.update(bigram_counts)\n",
    "    unigram_counts.update(dict.fromkeys(unigram_counts,len(vocabulary)))\n",
    "    return all_bigram_counts,unigram_counts"
   ]
  },
  {
   "cell_type": "code",
   "execution_count": 62,
   "metadata": {},
   "outputs": [],
   "source": [
    "laplace_bigram_counts,laplace_unigram_counts = laplace_bigram_smoothing_counts(ngram_counts,context_counts)"
   ]
  },
  {
   "cell_type": "code",
   "execution_count": null,
   "metadata": {},
   "outputs": [],
   "source": []
  }
 ],
 "metadata": {
  "kernelspec": {
   "display_name": "Python 3",
   "language": "python",
   "name": "python3"
  },
  "language_info": {
   "codemirror_mode": {
    "name": "ipython",
    "version": 3
   },
   "file_extension": ".py",
   "mimetype": "text/x-python",
   "name": "python",
   "nbconvert_exporter": "python",
   "pygments_lexer": "ipython3",
   "version": "3.7.3"
  }
 },
 "nbformat": 4,
 "nbformat_minor": 2
}
