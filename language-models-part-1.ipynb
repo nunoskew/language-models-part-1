{
 "cells": [
  {
   "cell_type": "code",
   "execution_count": 1,
   "metadata": {},
   "outputs": [
    {
     "name": "stdout",
     "output_type": "stream",
     "text": [
      "*** Introductory Examples for the NLTK Book ***\n",
      "Loading text1, ..., text9 and sent1, ..., sent9\n",
      "Type the name of the text or sentence to view it.\n",
      "Type: 'texts()' or 'sents()' to list the materials.\n",
      "text1: Moby Dick by Herman Melville 1851\n",
      "text2: Sense and Sensibility by Jane Austen 1811\n",
      "text3: The Book of Genesis\n",
      "text4: Inaugural Address Corpus\n",
      "text5: Chat Corpus\n",
      "text6: Monty Python and the Holy Grail\n",
      "text7: Wall Street Journal\n",
      "text8: Personals Corpus\n",
      "text9: The Man Who Was Thursday by G . K . Chesterton 1908\n"
     ]
    }
   ],
   "source": [
    "import itertools\n",
    "import numpy as np\n",
    "from collections import Counter\n",
    "from nltk.book import *"
   ]
  },
  {
   "cell_type": "code",
   "execution_count": 2,
   "metadata": {},
   "outputs": [],
   "source": [
    "# text6 = monty python and the holy grail\n",
    "reference_text = text6\n",
    "unigram_counts = Counter(reference_text)\n",
    "bigrams = [(reference_text[i],reference_text[i+1]) for i in range(len(reference_text)-1)]\n",
    "bigram_counts = Counter(bigrams)"
   ]
  },
  {
   "cell_type": "code",
   "execution_count": 3,
   "metadata": {},
   "outputs": [],
   "source": [
    "def compute_ngrams(text,n):\n",
    "    if len(text)!=n:\n",
    "        return [tuple(text[i:(i+n)]) for i in range(len(text)-n+1)]\n",
    "    else:\n",
    "        return [tuple(text)]"
   ]
  },
  {
   "cell_type": "code",
   "execution_count": 4,
   "metadata": {},
   "outputs": [],
   "source": [
    "def compute_ngram_counts(text,n):\n",
    "    ngram_counts = Counter(compute_ngrams(text,n))\n",
    "    context_counts = Counter(compute_ngrams(text,n-1))\n",
    "    return ngram_counts,context_counts"
   ]
  },
  {
   "cell_type": "code",
   "execution_count": 5,
   "metadata": {},
   "outputs": [
    {
     "data": {
      "text/plain": [
       "[('SCENE', '1', ':'),\n",
       " ('1', ':', '['),\n",
       " (':', '[', 'wind'),\n",
       " ('[', 'wind', ']'),\n",
       " ('wind', ']', '['),\n",
       " (']', '[', 'clop'),\n",
       " ('[', 'clop', 'clop'),\n",
       " ('clop', 'clop', 'clop'),\n",
       " ('clop', 'clop', ']'),\n",
       " ('clop', ']', 'KING')]"
      ]
     },
     "execution_count": 5,
     "metadata": {},
     "output_type": "execute_result"
    }
   ],
   "source": [
    "trigrams = compute_ngrams(reference_text,3)\n",
    "trigrams[:10]"
   ]
  },
  {
   "cell_type": "code",
   "execution_count": 6,
   "metadata": {},
   "outputs": [],
   "source": [
    "def compute_bigram_probability(bigram,bigram_counts,unigram_counts):\n",
    "    return bigram_counts[bigram]/unigram_counts[bigram[0]]"
   ]
  },
  {
   "cell_type": "code",
   "execution_count": 7,
   "metadata": {},
   "outputs": [],
   "source": [
    "def compute_ngram_probability(ngram,ngram_counts,context_counts,verbose=False):\n",
    "    if verbose:\n",
    "        print('ngram: ',ngram)\n",
    "        print('ngram counts: ',ngram_counts[ngram])\n",
    "        print('context: ',ngram[:len(ngram)-1])\n",
    "        print('context counts: ',context_counts[ngram[:len(ngram)-1]])\n",
    "    return ngram_counts[ngram]/context_counts[ngram[:len(ngram)-1]]"
   ]
  },
  {
   "cell_type": "code",
   "execution_count": 8,
   "metadata": {},
   "outputs": [],
   "source": [
    "def compute_sentence_bigram_probability(s,bigram_counts,unigram_counts):\n",
    "    s = s.split(' ')\n",
    "    return np.exp(np.sum([np.log(compute_bigram_probability((s[i],s[i+1]),bigram_counts,unigram_counts)) for i in range(len(s)-1)]))"
   ]
  },
  {
   "cell_type": "code",
   "execution_count": 9,
   "metadata": {},
   "outputs": [],
   "source": [
    "def compute_sentence_ngram_probability(s,ngram_counts,context_counts):\n",
    "    s = s.split(' ')\n",
    "    ngrams = compute_ngrams(s,len(list(ngram_counts.keys())[0]))\n",
    "    return np.exp(np.sum([np.log(compute_ngram_probability(ngrams[i],ngram_counts,context_counts)) for i in range(len(ngrams))]))"
   ]
  },
  {
   "cell_type": "code",
   "execution_count": 10,
   "metadata": {},
   "outputs": [],
   "source": [
    "bigram_counts,unigram_counts = compute_ngram_counts(reference_text,2)\n",
    "ngram_counts,context_counts = compute_ngram_counts(reference_text,3)"
   ]
  },
  {
   "cell_type": "code",
   "execution_count": 11,
   "metadata": {},
   "outputs": [],
   "source": [
    "def compute_perplexity(text,ngram_counts,context_counts):\n",
    "    ngrams = compute_ngrams(text,len(list(ngram_counts.keys())[0]))\n",
    "    return np.exp(-(1/len(text))*np.sum([np.log(compute_ngram_probability(ngrams[i],ngram_counts,context_counts)) for i in range(len(ngrams))]))"
   ]
  },
  {
   "cell_type": "code",
   "execution_count": 12,
   "metadata": {},
   "outputs": [],
   "source": [
    "def unk_encode_text_train_test(min_count,train_text,test_text=[]):\n",
    "    train_unigram_counts = Counter(train_text)\n",
    "    train_rare_words = [w for w in list(train_unigram_counts.keys()) if train_unigram_counts[w]<=min_count]\n",
    "    train_text = ['<UNK>' if w in train_rare_words else w for w in train_text ]\n",
    "    test_text = ['<UNK>' if w not in list(train_unigram_counts.keys()) else w for w in test_text]\n",
    "    return train_text,test_text"
   ]
  },
  {
   "cell_type": "code",
   "execution_count": 13,
   "metadata": {},
   "outputs": [],
   "source": [
    "def laplace_bigram_smoothing_counts(bigram_counts,unigram_counts,k=1):\n",
    "    vocabulary = [l[0] for l in list(unigram_counts.keys())]\n",
    "    all_bigrams  = list(itertools.product(vocabulary,vocabulary))\n",
    "    all_bigram_counts = Counter(all_bigrams)\n",
    "    all_bigram_counts.update(Counter(dict.fromkeys(all_bigram_counts,k-1)))\n",
    "    all_bigram_counts.update(bigram_counts)\n",
    "    unigram_counts.update(Counter(dict.fromkeys(unigram_counts,len(vocabulary))))\n",
    "    return all_bigram_counts,unigram_counts"
   ]
  },
  {
   "cell_type": "code",
   "execution_count": 14,
   "metadata": {},
   "outputs": [],
   "source": [
    "laplace_bigram_counts,laplace_unigram_counts = laplace_bigram_smoothing_counts(ngram_counts,context_counts,k=2)"
   ]
  },
  {
   "cell_type": "code",
   "execution_count": 15,
   "metadata": {},
   "outputs": [],
   "source": [
    "def sample_word_from_context(context_word,ngram_counts):\n",
    "    ngrams = list(ngram_counts.keys())\n",
    "    context_ngrams = np.array([ngram for ngram in ngrams if ngram[0]==context_word])\n",
    "    next_possible_words = np.array([ngram[1] for ngram in context_ngrams])\n",
    "    context_probs = np.array([ngram_counts[ngram] for ngram in ngrams if ngram[0]==context_word],dtype='float')\n",
    "    context_probs/=np.sum(context_probs)\n",
    "    return np.random.choice(a=next_possible_words,size=1,p=context_probs)[0]"
   ]
  },
  {
   "cell_type": "code",
   "execution_count": 16,
   "metadata": {},
   "outputs": [],
   "source": [
    "def generate_random_sentence(seed_word,ngram_counts,stop_word='.',sentence_max_length=300,):\n",
    "    sentence = seed_word\n",
    "    next_word = sample_word_from_context(context_word=seed_word,ngram_counts=ngram_counts)\n",
    "    sentence += ' '+next_word\n",
    "    while next_word not in ('.','!','?') and len(sentence.split(' '))<sentence_max_length:\n",
    "        next_word = sample_word_from_context(context_word=next_word,ngram_counts=ngram_counts)\n",
    "        sentence += ' '+next_word\n",
    "    print(\"Random Sentence:\",sentence)\n",
    "    return None        "
   ]
  },
  {
   "cell_type": "code",
   "execution_count": 17,
   "metadata": {},
   "outputs": [
    {
     "name": "stdout",
     "output_type": "stream",
     "text": [
      "Random Sentence: She looks like one , eh ?\n"
     ]
    }
   ],
   "source": [
    "generate_random_sentence(seed_word='She',ngram_counts=ngram_counts,stop_word='.',sentence_max_length=20)"
   ]
  },
  {
   "cell_type": "code",
   "execution_count": null,
   "metadata": {},
   "outputs": [],
   "source": []
  }
 ],
 "metadata": {
  "kernelspec": {
   "display_name": "Python 3",
   "language": "python",
   "name": "python3"
  },
  "language_info": {
   "codemirror_mode": {
    "name": "ipython",
    "version": 3
   },
   "file_extension": ".py",
   "mimetype": "text/x-python",
   "name": "python",
   "nbconvert_exporter": "python",
   "pygments_lexer": "ipython3",
   "version": "3.7.6"
  }
 },
 "nbformat": 4,
 "nbformat_minor": 2
}
